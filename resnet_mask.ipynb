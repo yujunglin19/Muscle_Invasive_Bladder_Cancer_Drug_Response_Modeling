{
 "cells": [
  {
   "cell_type": "markdown",
   "metadata": {},
   "source": [
    "### Imports"
   ]
  },
  {
   "cell_type": "code",
   "execution_count": 1,
   "metadata": {},
   "outputs": [],
   "source": [
    "import os\n",
    "import numpy as np \n",
    "import matplotlib.pyplot as plt\n",
    "import seaborn as sns\n",
    "from tqdm.notebook import tqdm\n",
    "from sklearn.model_selection import train_test_split\n",
    "from datetime import datetime\n",
    "from copy import deepcopy\n",
    "import torch\n",
    "from torch.utils.data import Dataset\n",
    "from torchvision import transforms, models\n",
    "from torch.utils.data import DataLoader\n",
    "from torchvision.models import ResNet18_Weights\n",
    "import torch.nn as nn\n",
    "from sklearn.metrics import confusion_matrix, accuracy_score"
   ]
  },
  {
   "cell_type": "markdown",
   "metadata": {},
   "source": [
    "### Loading dataset"
   ]
  },
  {
   "cell_type": "code",
   "execution_count": 2,
   "metadata": {},
   "outputs": [
    {
     "data": {
      "application/vnd.jupyter.widget-view+json": {
       "model_id": "00588d3df5ae49aa97c481196e751fd4",
       "version_major": 2,
       "version_minor": 0
      },
      "text/plain": [
       "  0%|          | 0/784 [00:00<?, ?it/s]"
      ]
     },
     "metadata": {},
     "output_type": "display_data"
    },
    {
     "data": {
      "application/vnd.jupyter.widget-view+json": {
       "model_id": "e53fc0ffcd5a4cf1a824ef8c4b2db95a",
       "version_major": 2,
       "version_minor": 0
      },
      "text/plain": [
       "  0%|          | 0/784 [00:00<?, ?it/s]"
      ]
     },
     "metadata": {},
     "output_type": "display_data"
    },
    {
     "data": {
      "application/vnd.jupyter.widget-view+json": {
       "model_id": "10f86bd89bc44eaebd9e189e4204cb13",
       "version_major": 2,
       "version_minor": 0
      },
      "text/plain": [
       "  0%|          | 0/812 [00:00<?, ?it/s]"
      ]
     },
     "metadata": {},
     "output_type": "display_data"
    },
    {
     "data": {
      "application/vnd.jupyter.widget-view+json": {
       "model_id": "4f4582b1353f4b30aa1bd43925a6cdd0",
       "version_major": 2,
       "version_minor": 0
      },
      "text/plain": [
       "  0%|          | 0/420 [00:00<?, ?it/s]"
      ]
     },
     "metadata": {},
     "output_type": "display_data"
    },
    {
     "data": {
      "application/vnd.jupyter.widget-view+json": {
       "model_id": "4d4862d5057e4eeda2471fcbc1232bc8",
       "version_major": 2,
       "version_minor": 0
      },
      "text/plain": [
       "  0%|          | 0/588 [00:00<?, ?it/s]"
      ]
     },
     "metadata": {},
     "output_type": "display_data"
    }
   ],
   "source": [
    "pd_imgs = []\n",
    "pr_imgs = []\n",
    "cr_imgs = []\n",
    "hlthy_imgs = []\n",
    "all_imgs = []\n",
    "\n",
    "PD_PATCHES_FOLDER = \"binary_masks/PD-R1-NA-6-dapi-20a-telC-CERPNB-40x002-MaxIP - Stitched_patches\"\n",
    "PR_PATCHES_FOLDER = \"binary_masks/PR-NA14-R1-dapi-20a-telC-cepnB-40x009-MaxIP - Stitched_patches\"\n",
    "CR_PATCHES_FOLDER_1 = \"binary_masks/R1-CR-NA-12-dapi-20a-telc-cepnB-40x scan004-MaxIP - Stitched_patches\"\n",
    "CR_PATCHES_FOLDER_2 = \"binary_masks/R1-CR-NA-12-dapi-20a-telC-cepnB-40x002-MaxIP - Stitched_patches\"\n",
    "HLTHY_PATCHES_FOLDER = \"binary_masks/Smooth Muscle-NA-2-dapi-20a-telC-CEPRNB-40x-MaxIP - Stitched_patches\"\n",
    "\n",
    "for img_name in tqdm(os.listdir(PD_PATCHES_FOLDER)):\n",
    "    img_path = os.path.join(PD_PATCHES_FOLDER, img_name)\n",
    "    img = plt.imread(img_path)[:,:,0]\n",
    "    if img.shape == (512, 512):\n",
    "        pd_imgs.append(img)\n",
    "        all_imgs.append(img)\n",
    "\n",
    "for img_name in tqdm(os.listdir(PR_PATCHES_FOLDER)):\n",
    "    img_path = os.path.join(PR_PATCHES_FOLDER, img_name)\n",
    "    img = plt.imread(img_path)[:,:,0]\n",
    "    if img.shape == (512, 512):\n",
    "        pr_imgs.append(img)\n",
    "        all_imgs.append(img)\n",
    "\n",
    "for img_name in tqdm(os.listdir(CR_PATCHES_FOLDER_1)):\n",
    "    img_path = os.path.join(CR_PATCHES_FOLDER_1, img_name)\n",
    "    img = plt.imread(img_path)[:,:,0]\n",
    "    if img.shape == (512, 512):\n",
    "        cr_imgs.append(img)\n",
    "        all_imgs.append(img)\n",
    "\n",
    "for img_name in tqdm(os.listdir(CR_PATCHES_FOLDER_2)):\n",
    "    img_path = os.path.join(CR_PATCHES_FOLDER_2, img_name)\n",
    "    img = plt.imread(img_path)[:,:,0]\n",
    "    if img.shape == (512, 512):\n",
    "        cr_imgs.append(img)\n",
    "        all_imgs.append(img)\n",
    "\n",
    "for img_name in tqdm(os.listdir(HLTHY_PATCHES_FOLDER)):\n",
    "    img_path = os.path.join(HLTHY_PATCHES_FOLDER, img_name)\n",
    "    img = plt.imread(img_path)[:,:,0]\n",
    "    if img.shape == (512, 512):\n",
    "        hlthy_imgs.append(img)\n",
    "        all_imgs.append(img)"
   ]
  },
  {
   "cell_type": "markdown",
   "metadata": {},
   "source": [
    "### Spliting in train, val, test"
   ]
  },
  {
   "cell_type": "code",
   "execution_count": 3,
   "metadata": {},
   "outputs": [],
   "source": [
    "X = np.array(all_imgs)\n",
    "y = np.hstack([\n",
    "    0*np.ones(len(pd_imgs)),\n",
    "    1*np.ones(len(pr_imgs)),\n",
    "    2*np.ones(len(cr_imgs)),\n",
    "    3*np.ones(len(hlthy_imgs))\n",
    "])"
   ]
  },
  {
   "cell_type": "code",
   "execution_count": 4,
   "metadata": {},
   "outputs": [
    {
     "name": "stdout",
     "output_type": "stream",
     "text": [
      "X_train: (1878, 512, 512), y_train: (1878,)\n",
      "X_val: (627, 512, 512), y_val: (627,)\n",
      "X_test: (627, 512, 512), y_test: (627,)\n"
     ]
    }
   ],
   "source": [
    "X_train_val, X_test, y_train_val, y_test = train_test_split(\n",
    "    X, y, test_size=0.2, random_state=42, stratify=y\n",
    ")\n",
    "\n",
    "X_train, X_val, y_train, y_val = train_test_split(\n",
    "    X_train_val, y_train_val, test_size=0.25, random_state=42, stratify=y_train_val\n",
    ")\n",
    "\n",
    "print(f\"X_train: {X_train.shape}, y_train: {y_train.shape}\")\n",
    "print(f\"X_val: {X_val.shape}, y_val: {y_val.shape}\")\n",
    "print(f\"X_test: {X_test.shape}, y_test: {y_test.shape}\")"
   ]
  },
  {
   "cell_type": "markdown",
   "metadata": {},
   "source": [
    "### Datasets"
   ]
  },
  {
   "cell_type": "code",
   "execution_count": 5,
   "metadata": {},
   "outputs": [],
   "source": [
    "class CustomImageDataset(Dataset):\n",
    "    def __init__(self, images, labels, transform=None):\n",
    "        self.images = images\n",
    "        self.labels = labels\n",
    "        self.transform = transform\n",
    "\n",
    "    def __len__(self):\n",
    "        return len(self.images)\n",
    "\n",
    "    def __getitem__(self, idx):\n",
    "        image = self.images[idx]\n",
    "        label = self.labels[idx]\n",
    "        \n",
    "        if self.transform:\n",
    "            image = self.transform(image)\n",
    "        else:\n",
    "            image = torch.tensor(image, dtype=torch.float32)\n",
    "            image = image.unsqueeze(0)\n",
    "        label = torch.tensor(label, dtype=torch.int64)\n",
    "\n",
    "        return image, label"
   ]
  },
  {
   "cell_type": "code",
   "execution_count": 6,
   "metadata": {},
   "outputs": [],
   "source": [
    "transform = transforms.Compose([\n",
    "    transforms.ToPILImage(),                # Convert to PIL Image\n",
    "    transforms.Resize((224, 224)),          # Resize to 224x224\n",
    "    transforms.Grayscale(num_output_channels=3),  # Convert grayscale to 3 channels\n",
    "    transforms.ToTensor(),                  # Convert to Tensor\n",
    "    transforms.Normalize(mean=[0.485, 0.456, 0.406], std=[0.229, 0.224, 0.225]),  # Normalize\n",
    "])"
   ]
  },
  {
   "cell_type": "code",
   "execution_count": 7,
   "metadata": {},
   "outputs": [],
   "source": [
    "train_dataset = CustomImageDataset(X_train, y_train, transform=transform)\n",
    "val_dataset = CustomImageDataset(X_val, y_val, transform=transform)\n",
    "test_dataset = CustomImageDataset(X_test, y_test, transform=transform)"
   ]
  },
  {
   "cell_type": "markdown",
   "metadata": {},
   "source": [
    "### Train function, Hyperparameters and Loading ResNet"
   ]
  },
  {
   "cell_type": "code",
   "execution_count": 8,
   "metadata": {},
   "outputs": [],
   "source": [
    "def train_model(\n",
    "        num_epochs, \n",
    "        model, \n",
    "        criterion,\n",
    "        device, \n",
    "        optimizer,\n",
    "        train_dataloader, \n",
    "        valid_dataloader, \n",
    "        curr_best_val_acc=0\n",
    "):\n",
    "    timestamp = datetime.now().strftime('%Y%m%d_%H%M%S')\n",
    "    curr_best_val_acc = curr_best_val_acc\n",
    "    train_losses = []\n",
    "    val_losses = []\n",
    "    train_accuracies = []\n",
    "    val_accuracies = []\n",
    "    best_model = model\n",
    "\n",
    "    for epoch in range(num_epochs):\n",
    "        model.train()\n",
    "        curr_train_loss = 0.0\n",
    "        correct_train = 0\n",
    "        total_train = 0\n",
    "        for images, labels in train_dataloader:\n",
    "            images, labels = images.to(device), labels.to(device)\n",
    "            optimizer.zero_grad()\n",
    "            outputs = model(images)\n",
    "\n",
    "            loss = criterion(outputs, labels)\n",
    "            loss.backward()\n",
    "            optimizer.step()\n",
    "            \n",
    "            curr_train_loss += loss.item()\n",
    "            _, preds = torch.max(outputs, 1)\n",
    "            correct_train += (preds == labels).sum().item()\n",
    "            total_train += labels.size(0)\n",
    "\n",
    "        curr_train_loss /= len(train_dataloader)\n",
    "        train_losses.append(curr_train_loss)\n",
    "        train_accuracies.append(correct_train / total_train)\n",
    "\n",
    "        model.eval()\n",
    "        curr_val_loss = 0.0\n",
    "        correct_val = 0\n",
    "        total_val = 0\n",
    "        with torch.no_grad():\n",
    "            for images, labels in valid_dataloader:\n",
    "                images, labels = images.to(device), labels.to(device)\n",
    "                outputs = model(images)\n",
    "                loss = criterion(outputs, labels)\n",
    "\n",
    "                curr_val_loss += loss.item()\n",
    "                _, preds = torch.max(outputs, 1)\n",
    "                correct_val += (preds == labels).sum().item()\n",
    "                total_val += labels.size(0)\n",
    "            curr_val_loss /= len(valid_dataloader)\n",
    "            val_losses.append(curr_val_loss)\n",
    "            val_accuracies.append(correct_val / total_val)\n",
    "\n",
    "        if val_accuracies[-1] > curr_best_val_acc:\n",
    "            curr_best_val_acc = val_accuracies[-1]\n",
    "            best_model = deepcopy(model)\n",
    "            torch.save(model.state_dict(), f'resnets/resnet18_mask_{str(timestamp)}.pth')\n",
    "\n",
    "        print(f\"[{epoch+1}]/[{num_epochs}] --- Train loss : {curr_train_loss} --- Val loss : {curr_val_loss}\")\n",
    "        print(f\"[{epoch+1}]/[{num_epochs}] --- Train acc : {train_accuracies[-1]} --- Val acc : {val_accuracies[-1]}\")\n",
    "\n",
    "    return best_model, train_losses, val_losses, train_accuracies, val_accuracies"
   ]
  },
  {
   "cell_type": "code",
   "execution_count": 9,
   "metadata": {},
   "outputs": [
    {
     "data": {
      "text/plain": [
       "ResNet(\n",
       "  (conv1): Conv2d(3, 64, kernel_size=(7, 7), stride=(2, 2), padding=(3, 3), bias=False)\n",
       "  (bn1): BatchNorm2d(64, eps=1e-05, momentum=0.1, affine=True, track_running_stats=True)\n",
       "  (relu): ReLU(inplace=True)\n",
       "  (maxpool): MaxPool2d(kernel_size=3, stride=2, padding=1, dilation=1, ceil_mode=False)\n",
       "  (layer1): Sequential(\n",
       "    (0): BasicBlock(\n",
       "      (conv1): Conv2d(64, 64, kernel_size=(3, 3), stride=(1, 1), padding=(1, 1), bias=False)\n",
       "      (bn1): BatchNorm2d(64, eps=1e-05, momentum=0.1, affine=True, track_running_stats=True)\n",
       "      (relu): ReLU(inplace=True)\n",
       "      (conv2): Conv2d(64, 64, kernel_size=(3, 3), stride=(1, 1), padding=(1, 1), bias=False)\n",
       "      (bn2): BatchNorm2d(64, eps=1e-05, momentum=0.1, affine=True, track_running_stats=True)\n",
       "    )\n",
       "    (1): BasicBlock(\n",
       "      (conv1): Conv2d(64, 64, kernel_size=(3, 3), stride=(1, 1), padding=(1, 1), bias=False)\n",
       "      (bn1): BatchNorm2d(64, eps=1e-05, momentum=0.1, affine=True, track_running_stats=True)\n",
       "      (relu): ReLU(inplace=True)\n",
       "      (conv2): Conv2d(64, 64, kernel_size=(3, 3), stride=(1, 1), padding=(1, 1), bias=False)\n",
       "      (bn2): BatchNorm2d(64, eps=1e-05, momentum=0.1, affine=True, track_running_stats=True)\n",
       "    )\n",
       "  )\n",
       "  (layer2): Sequential(\n",
       "    (0): BasicBlock(\n",
       "      (conv1): Conv2d(64, 128, kernel_size=(3, 3), stride=(2, 2), padding=(1, 1), bias=False)\n",
       "      (bn1): BatchNorm2d(128, eps=1e-05, momentum=0.1, affine=True, track_running_stats=True)\n",
       "      (relu): ReLU(inplace=True)\n",
       "      (conv2): Conv2d(128, 128, kernel_size=(3, 3), stride=(1, 1), padding=(1, 1), bias=False)\n",
       "      (bn2): BatchNorm2d(128, eps=1e-05, momentum=0.1, affine=True, track_running_stats=True)\n",
       "      (downsample): Sequential(\n",
       "        (0): Conv2d(64, 128, kernel_size=(1, 1), stride=(2, 2), bias=False)\n",
       "        (1): BatchNorm2d(128, eps=1e-05, momentum=0.1, affine=True, track_running_stats=True)\n",
       "      )\n",
       "    )\n",
       "    (1): BasicBlock(\n",
       "      (conv1): Conv2d(128, 128, kernel_size=(3, 3), stride=(1, 1), padding=(1, 1), bias=False)\n",
       "      (bn1): BatchNorm2d(128, eps=1e-05, momentum=0.1, affine=True, track_running_stats=True)\n",
       "      (relu): ReLU(inplace=True)\n",
       "      (conv2): Conv2d(128, 128, kernel_size=(3, 3), stride=(1, 1), padding=(1, 1), bias=False)\n",
       "      (bn2): BatchNorm2d(128, eps=1e-05, momentum=0.1, affine=True, track_running_stats=True)\n",
       "    )\n",
       "  )\n",
       "  (layer3): Sequential(\n",
       "    (0): BasicBlock(\n",
       "      (conv1): Conv2d(128, 256, kernel_size=(3, 3), stride=(2, 2), padding=(1, 1), bias=False)\n",
       "      (bn1): BatchNorm2d(256, eps=1e-05, momentum=0.1, affine=True, track_running_stats=True)\n",
       "      (relu): ReLU(inplace=True)\n",
       "      (conv2): Conv2d(256, 256, kernel_size=(3, 3), stride=(1, 1), padding=(1, 1), bias=False)\n",
       "      (bn2): BatchNorm2d(256, eps=1e-05, momentum=0.1, affine=True, track_running_stats=True)\n",
       "      (downsample): Sequential(\n",
       "        (0): Conv2d(128, 256, kernel_size=(1, 1), stride=(2, 2), bias=False)\n",
       "        (1): BatchNorm2d(256, eps=1e-05, momentum=0.1, affine=True, track_running_stats=True)\n",
       "      )\n",
       "    )\n",
       "    (1): BasicBlock(\n",
       "      (conv1): Conv2d(256, 256, kernel_size=(3, 3), stride=(1, 1), padding=(1, 1), bias=False)\n",
       "      (bn1): BatchNorm2d(256, eps=1e-05, momentum=0.1, affine=True, track_running_stats=True)\n",
       "      (relu): ReLU(inplace=True)\n",
       "      (conv2): Conv2d(256, 256, kernel_size=(3, 3), stride=(1, 1), padding=(1, 1), bias=False)\n",
       "      (bn2): BatchNorm2d(256, eps=1e-05, momentum=0.1, affine=True, track_running_stats=True)\n",
       "    )\n",
       "  )\n",
       "  (layer4): Sequential(\n",
       "    (0): BasicBlock(\n",
       "      (conv1): Conv2d(256, 512, kernel_size=(3, 3), stride=(2, 2), padding=(1, 1), bias=False)\n",
       "      (bn1): BatchNorm2d(512, eps=1e-05, momentum=0.1, affine=True, track_running_stats=True)\n",
       "      (relu): ReLU(inplace=True)\n",
       "      (conv2): Conv2d(512, 512, kernel_size=(3, 3), stride=(1, 1), padding=(1, 1), bias=False)\n",
       "      (bn2): BatchNorm2d(512, eps=1e-05, momentum=0.1, affine=True, track_running_stats=True)\n",
       "      (downsample): Sequential(\n",
       "        (0): Conv2d(256, 512, kernel_size=(1, 1), stride=(2, 2), bias=False)\n",
       "        (1): BatchNorm2d(512, eps=1e-05, momentum=0.1, affine=True, track_running_stats=True)\n",
       "      )\n",
       "    )\n",
       "    (1): BasicBlock(\n",
       "      (conv1): Conv2d(512, 512, kernel_size=(3, 3), stride=(1, 1), padding=(1, 1), bias=False)\n",
       "      (bn1): BatchNorm2d(512, eps=1e-05, momentum=0.1, affine=True, track_running_stats=True)\n",
       "      (relu): ReLU(inplace=True)\n",
       "      (conv2): Conv2d(512, 512, kernel_size=(3, 3), stride=(1, 1), padding=(1, 1), bias=False)\n",
       "      (bn2): BatchNorm2d(512, eps=1e-05, momentum=0.1, affine=True, track_running_stats=True)\n",
       "    )\n",
       "  )\n",
       "  (avgpool): AdaptiveAvgPool2d(output_size=(1, 1))\n",
       "  (fc): Linear(in_features=512, out_features=4, bias=True)\n",
       ")"
      ]
     },
     "execution_count": 9,
     "metadata": {},
     "output_type": "execute_result"
    }
   ],
   "source": [
    "batch_size = 32\n",
    "\n",
    "train_dataloader = DataLoader(train_dataset, batch_size=batch_size, shuffle=True)\n",
    "val_dataloader = DataLoader(val_dataset, batch_size=batch_size, shuffle=False)\n",
    "test_dataloader = DataLoader(test_dataset, batch_size=batch_size, shuffle=False)\n",
    "\n",
    "model = models.resnet18(weights=ResNet18_Weights.IMAGENET1K_V1)\n",
    "num_classes = 4\n",
    "model.fc = nn.Linear(model.fc.in_features, num_classes)\n",
    "\n",
    "lr = 1e-4\n",
    "criterion = nn.CrossEntropyLoss()\n",
    "optimizer = torch.optim.Adam(model.parameters(), lr=lr)\n",
    "num_epochs = 50\n",
    "device = torch.device('cuda' if torch.cuda.is_available() else 'cpu')\n",
    "model.to(device)"
   ]
  },
  {
   "cell_type": "markdown",
   "metadata": {},
   "source": [
    "### Training"
   ]
  },
  {
   "cell_type": "code",
   "execution_count": 10,
   "metadata": {},
   "outputs": [
    {
     "name": "stdout",
     "output_type": "stream",
     "text": [
      "[1]/[50] --- Train loss : 0.9994642007148872 --- Val loss : 0.9163378208875657\n",
      "[1]/[50] --- Train acc : 0.5543130990415336 --- Val acc : 0.6092503987240829\n",
      "[2]/[50] --- Train loss : 0.4925897116378202 --- Val loss : 0.9391039907932281\n",
      "[2]/[50] --- Train acc : 0.8173588924387647 --- Val acc : 0.6076555023923444\n",
      "[3]/[50] --- Train loss : 0.1907531905729892 --- Val loss : 1.0557422012090683\n",
      "[3]/[50] --- Train acc : 0.9510117145899893 --- Val acc : 0.6076555023923444\n",
      "[4]/[50] --- Train loss : 0.08051995816245927 --- Val loss : 1.2896073207259178\n",
      "[4]/[50] --- Train acc : 0.9824281150159745 --- Val acc : 0.6060606060606061\n",
      "[5]/[50] --- Train loss : 0.04569287162463544 --- Val loss : 1.203488352894783\n",
      "[5]/[50] --- Train acc : 0.9877529286474973 --- Val acc : 0.620414673046252\n",
      "[6]/[50] --- Train loss : 0.030437507737680513 --- Val loss : 1.1973835438489915\n",
      "[6]/[50] --- Train acc : 0.9898828541001065 --- Val acc : 0.6395534290271132\n",
      "[7]/[50] --- Train loss : 0.024365413373620328 --- Val loss : 1.2023146256804467\n",
      "[7]/[50] --- Train acc : 0.9920127795527156 --- Val acc : 0.6236044657097288\n",
      "[8]/[50] --- Train loss : 0.021858076947756995 --- Val loss : 1.259867687523365\n",
      "[8]/[50] --- Train acc : 0.9925452609158679 --- Val acc : 0.6220095693779905\n",
      "[9]/[50] --- Train loss : 0.020873392233625054 --- Val loss : 1.3185053512454032\n",
      "[9]/[50] --- Train acc : 0.9920127795527156 --- Val acc : 0.620414673046252\n",
      "[10]/[50] --- Train loss : 0.020689611974314362 --- Val loss : 1.2926040947437287\n",
      "[10]/[50] --- Train acc : 0.9914802981895634 --- Val acc : 0.6379585326953748\n",
      "[11]/[50] --- Train loss : 0.018664457310401533 --- Val loss : 1.3109410852193832\n",
      "[11]/[50] --- Train acc : 0.9904153354632588 --- Val acc : 0.6236044657097288\n",
      "[12]/[50] --- Train loss : 0.021763876451463517 --- Val loss : 1.2828608214855195\n",
      "[12]/[50] --- Train acc : 0.9914802981895634 --- Val acc : 0.631578947368421\n",
      "[13]/[50] --- Train loss : 0.01928723458855776 --- Val loss : 1.3315061390399934\n",
      "[13]/[50] --- Train acc : 0.9909478168264111 --- Val acc : 0.6108452950558214\n",
      "[14]/[50] --- Train loss : 0.018616781529567947 --- Val loss : 1.4011878773570061\n",
      "[14]/[50] --- Train acc : 0.9925452609158679 --- Val acc : 0.6140350877192983\n",
      "[15]/[50] --- Train loss : 0.01700185290024758 --- Val loss : 1.3351059526205062\n",
      "[15]/[50] --- Train acc : 0.9920127795527156 --- Val acc : 0.6092503987240829\n",
      "[16]/[50] --- Train loss : 0.01717610046231993 --- Val loss : 1.3862982198596001\n",
      "[16]/[50] --- Train acc : 0.9904153354632588 --- Val acc : 0.620414673046252\n",
      "[17]/[50] --- Train loss : 0.01640615000989351 --- Val loss : 1.373036466538906\n",
      "[17]/[50] --- Train acc : 0.9914802981895634 --- Val acc : 0.6299840510366826\n",
      "[18]/[50] --- Train loss : 0.01626558175805751 --- Val loss : 1.3916881889104844\n",
      "[18]/[50] --- Train acc : 0.9909478168264111 --- Val acc : 0.6108452950558214\n",
      "[19]/[50] --- Train loss : 0.016448210317629657 --- Val loss : 1.4691937789320946\n",
      "[19]/[50] --- Train acc : 0.9920127795527156 --- Val acc : 0.6140350877192983\n",
      "[20]/[50] --- Train loss : 0.016279055465652087 --- Val loss : 1.6272681802511215\n",
      "[20]/[50] --- Train acc : 0.9914802981895634 --- Val acc : 0.6124401913875598\n",
      "[21]/[50] --- Train loss : 0.015832778517259442 --- Val loss : 1.3847128182649613\n",
      "[21]/[50] --- Train acc : 0.9914802981895634 --- Val acc : 0.620414673046252\n",
      "[22]/[50] --- Train loss : 0.016237934281796974 --- Val loss : 1.4177248179912567\n",
      "[22]/[50] --- Train acc : 0.9898828541001065 --- Val acc : 0.6172248803827751\n",
      "[23]/[50] --- Train loss : 0.015917622931923132 --- Val loss : 1.5212540686130525\n",
      "[23]/[50] --- Train acc : 0.9920127795527156 --- Val acc : 0.6172248803827751\n",
      "[24]/[50] --- Train loss : 0.015822867148603172 --- Val loss : 1.4602607667446137\n",
      "[24]/[50] --- Train acc : 0.9914802981895634 --- Val acc : 0.6188197767145136\n",
      "[25]/[50] --- Train loss : 0.015425551440507584 --- Val loss : 1.3806266874074935\n",
      "[25]/[50] --- Train acc : 0.9914802981895634 --- Val acc : 0.6267942583732058\n",
      "[26]/[50] --- Train loss : 0.015778543923338245 --- Val loss : 1.455792286992073\n",
      "[26]/[50] --- Train acc : 0.9909478168264111 --- Val acc : 0.6236044657097288\n",
      "[27]/[50] --- Train loss : 0.01815983679360647 --- Val loss : 1.6802509039640428\n",
      "[27]/[50] --- Train acc : 0.9920127795527156 --- Val acc : 0.5917065390749602\n",
      "[28]/[50] --- Train loss : 0.39796371474049164 --- Val loss : 2.526103287935257\n",
      "[28]/[50] --- Train acc : 0.865814696485623 --- Val acc : 0.4481658692185008\n",
      "[29]/[50] --- Train loss : 0.566349847589509 --- Val loss : 1.8707901060581207\n",
      "[29]/[50] --- Train acc : 0.7827476038338658 --- Val acc : 0.5055821371610846\n",
      "[30]/[50] --- Train loss : 0.15404739401350587 --- Val loss : 1.288244430720806\n",
      "[30]/[50] --- Train acc : 0.946751863684771 --- Val acc : 0.6092503987240829\n",
      "[31]/[50] --- Train loss : 0.049652521388005404 --- Val loss : 1.2263857856392861\n",
      "[31]/[50] --- Train acc : 0.9824281150159745 --- Val acc : 0.6156299840510366\n",
      "[32]/[50] --- Train loss : 0.030571545276917137 --- Val loss : 1.2972909659147263\n",
      "[32]/[50] --- Train acc : 0.9898828541001065 --- Val acc : 0.6236044657097288\n",
      "[33]/[50] --- Train loss : 0.023703089640949363 --- Val loss : 1.341494408249855\n",
      "[33]/[50] --- Train acc : 0.9920127795527156 --- Val acc : 0.6331738437001595\n",
      "[34]/[50] --- Train loss : 0.02028652256891384 --- Val loss : 1.3690677732229233\n",
      "[34]/[50] --- Train acc : 0.9920127795527156 --- Val acc : 0.6395534290271132\n",
      "[35]/[50] --- Train loss : 0.017798936660440984 --- Val loss : 1.3459288775920868\n",
      "[35]/[50] --- Train acc : 0.9909478168264111 --- Val acc : 0.6379585326953748\n",
      "[36]/[50] --- Train loss : 0.01744484037784386 --- Val loss : 1.3721044167876244\n",
      "[36]/[50] --- Train acc : 0.9920127795527156 --- Val acc : 0.6363636363636364\n",
      "[37]/[50] --- Train loss : 0.01720737928615378 --- Val loss : 1.3704186916351317\n",
      "[37]/[50] --- Train acc : 0.9920127795527156 --- Val acc : 0.631578947368421\n",
      "[38]/[50] --- Train loss : 0.01672017757516449 --- Val loss : 1.3852898955345154\n",
      "[38]/[50] --- Train acc : 0.9909478168264111 --- Val acc : 0.6363636363636364\n",
      "[39]/[50] --- Train loss : 0.01670062105108242 --- Val loss : 1.378949734568596\n",
      "[39]/[50] --- Train acc : 0.9920127795527156 --- Val acc : 0.6363636363636364\n",
      "[40]/[50] --- Train loss : 0.016326781401264687 --- Val loss : 1.408866462111473\n",
      "[40]/[50] --- Train acc : 0.9920127795527156 --- Val acc : 0.6331738437001595\n",
      "[41]/[50] --- Train loss : 0.015575025429686737 --- Val loss : 1.3813560053706169\n",
      "[41]/[50] --- Train acc : 0.9909478168264111 --- Val acc : 0.6379585326953748\n",
      "[42]/[50] --- Train loss : 0.01587736693860063 --- Val loss : 1.4769456028938293\n",
      "[42]/[50] --- Train acc : 0.9920127795527156 --- Val acc : 0.6283891547049442\n",
      "[43]/[50] --- Train loss : 0.01603819272467093 --- Val loss : 1.4119226217269898\n",
      "[43]/[50] --- Train acc : 0.9920127795527156 --- Val acc : 0.6347687400318979\n",
      "[44]/[50] --- Train loss : 0.015671284305488184 --- Val loss : 1.3931268155574799\n",
      "[44]/[50] --- Train acc : 0.9909478168264111 --- Val acc : 0.6331738437001595\n",
      "[45]/[50] --- Train loss : 0.015621118152798232 --- Val loss : 1.397483092546463\n",
      "[45]/[50] --- Train acc : 0.9914802981895634 --- Val acc : 0.6347687400318979\n",
      "[46]/[50] --- Train loss : 0.015529639589535151 --- Val loss : 1.3950924187898637\n",
      "[46]/[50] --- Train acc : 0.9898828541001065 --- Val acc : 0.631578947368421\n",
      "[47]/[50] --- Train loss : 0.01639492158561953 --- Val loss : 1.4344786018133164\n",
      "[47]/[50] --- Train acc : 0.9920127795527156 --- Val acc : 0.6299840510366826\n",
      "[48]/[50] --- Train loss : 0.01529362314440886 --- Val loss : 1.4562064304947853\n",
      "[48]/[50] --- Train acc : 0.9914802981895634 --- Val acc : 0.6363636363636364\n",
      "[49]/[50] --- Train loss : 0.015477938009268147 --- Val loss : 1.454009620845318\n",
      "[49]/[50] --- Train acc : 0.9920127795527156 --- Val acc : 0.6267942583732058\n",
      "[50]/[50] --- Train loss : 0.015406302509630114 --- Val loss : 1.4576674744486808\n",
      "[50]/[50] --- Train acc : 0.9914802981895634 --- Val acc : 0.6379585326953748\n"
     ]
    }
   ],
   "source": [
    "best_model, train_losses, val_losses, train_accuracies, val_accuracies = train_model(\n",
    "    num_epochs,\n",
    "    model,\n",
    "    criterion,\n",
    "    device,\n",
    "    optimizer,\n",
    "    train_dataloader,\n",
    "    val_dataloader\n",
    ")"
   ]
  },
  {
   "cell_type": "code",
   "execution_count": 11,
   "metadata": {},
   "outputs": [
    {
     "data": {
      "image/png": "[encoded data removed]",
      "text/plain": [
       "<Figure size 640x480 with 1 Axes>"
      ]
     },
     "metadata": {},
     "output_type": "display_data"
    },
    {
     "data": {
      "image/png": "[encoded data removed]",
      "text/plain": [
       "<Figure size 640x480 with 1 Axes>"
      ]
     },
     "metadata": {},
     "output_type": "display_data"
    }
   ],
   "source": [
    "plt.plot(train_losses, label=\"Training\")\n",
    "plt.plot(val_losses, label=\"Validation\")\n",
    "plt.xlabel(\"Epochs\")\n",
    "plt.ylabel(\"Losses\")\n",
    "plt.title(\"Loss curves\")\n",
    "plt.legend()\n",
    "plt.grid(1)\n",
    "plt.show()\n",
    "\n",
    "\n",
    "plt.plot(train_accuracies, label=\"Training\")\n",
    "plt.plot(val_accuracies, label=\"Validation\")\n",
    "plt.xlabel(\"Epochs\")\n",
    "plt.ylabel(\"Accuracy\")\n",
    "plt.title(\"Accuracy curves\")\n",
    "plt.legend()\n",
    "plt.grid(1)\n",
    "plt.show()"
   ]
  },
  {
   "cell_type": "code",
   "execution_count": 12,
   "metadata": {},
   "outputs": [
    {
     "name": "stdout",
     "output_type": "stream",
     "text": [
      "Test Accuracy: 60.13%\n",
      "Confusion Matrix:\n",
      "[[ 66  34  42   4]\n",
      " [ 22  65  34  25]\n",
      " [ 27  22 158  20]\n",
      " [  4   9   7  88]]\n"
     ]
    }
   ],
   "source": [
    "best_model.to(device)\n",
    "best_model.eval()\n",
    "\n",
    "all_labels = []\n",
    "all_preds = []\n",
    "\n",
    "with torch.no_grad():\n",
    "    for images, labels in test_dataloader:\n",
    "        images, labels = images.to(device), labels.to(device)\n",
    "        outputs = best_model(images)\n",
    "        _, preds = torch.max(outputs, 1)\n",
    "        all_labels.extend(labels.cpu().numpy())\n",
    "        all_preds.extend(preds.cpu().numpy())\n",
    "\n",
    "accuracy = accuracy_score(all_labels, all_preds)\n",
    "print(f\"Test Accuracy: {accuracy * 100:.2f}%\")\n",
    "\n",
    "conf_matrix = confusion_matrix(all_labels, all_preds)\n",
    "print(\"Confusion Matrix:\")\n",
    "print(conf_matrix)"
   ]
  },
  {
   "cell_type": "code",
   "execution_count": 13,
   "metadata": {},
   "outputs": [
    {
     "name": "stdout",
     "output_type": "stream",
     "text": [
      "Accuracy for class PD: 45.21%\n",
      "Accuracy for class PR: 44.52%\n",
      "Accuracy for class CR: 69.60%\n",
      "Accuracy for class HLTHY: 81.48%\n"
     ]
    }
   ],
   "source": [
    "classes = ['PD', 'PR', 'CR', 'HLTHY']\n",
    "class_accuracies = conf_matrix.diagonal() / conf_matrix.sum(axis=1)\n",
    "for i, class_name in enumerate(classes):\n",
    "    print(f\"Accuracy for class {class_name}: {class_accuracies[i] * 100:.2f}%\")"
   ]
  },
  {
   "cell_type": "code",
   "execution_count": 14,
   "metadata": {},
   "outputs": [
    {
     "data": {
      "image/png": "[encoded data removed]",
      "text/plain": [
       "<Figure size 500x400 with 2 Axes>"
      ]
     },
     "metadata": {},
     "output_type": "display_data"
    }
   ],
   "source": [
    "plt.figure(figsize=(5, 4))\n",
    "sns.heatmap(conf_matrix, annot=True, fmt='d', cmap='seismic', xticklabels=classes, yticklabels=classes)\n",
    "plt.xlabel('Predicted')\n",
    "plt.ylabel('True')\n",
    "plt.title('Confusion Matrix')\n",
    "plt.show()"
   ]
  }
 ],
 "metadata": {
  "kernelspec": {
   "display_name": "SAM-testing",
   "language": "python",
   "name": "python3"
  },
  "language_info": {
   "codemirror_mode": {
    "name": "ipython",
    "version": 3
   },
   "file_extension": ".py",
   "mimetype": "text/x-python",
   "name": "python",
   "nbconvert_exporter": "python",
   "pygments_lexer": "ipython3",
   "version": "3.10.15"
  }
 },
 "nbformat": 4,
 "nbformat_minor": 2
}
