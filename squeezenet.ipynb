{
 "cells": [
  {
   "cell_type": "markdown",
   "metadata": {},
   "source": [
    "### Imports"
   ]
  },
  {
   "cell_type": "code",
   "execution_count": 14,
   "metadata": {},
   "outputs": [],
   "source": [
    "import os\n",
    "import numpy as np \n",
    "import matplotlib.pyplot as plt\n",
    "import seaborn as sns\n",
    "from tqdm.notebook import tqdm\n",
    "from sklearn.model_selection import train_test_split\n",
    "from datetime import datetime\n",
    "from copy import deepcopy\n",
    "import torch\n",
    "from torch.utils.data import Dataset\n",
    "from torchvision import transforms\n",
    "from torch.utils.data import DataLoader\n",
    "from torchvision.models import squeezenet1_0, SqueezeNet1_0_Weights\n",
    "import torch.nn as nn\n",
    "from sklearn.metrics import confusion_matrix, accuracy_score"
   ]
  },
  {
   "cell_type": "markdown",
   "metadata": {},
   "source": [
    "### Loading dataset"
   ]
  },
  {
   "cell_type": "code",
   "execution_count": 2,
   "metadata": {},
   "outputs": [
    {
     "data": {
      "application/vnd.jupyter.widget-view+json": {
       "model_id": "996e5b33c7e74bb2985e6f68d9c5eb2a",
       "version_major": 2,
       "version_minor": 0
      },
      "text/plain": [
       "  0%|          | 0/784 [00:00<?, ?it/s]"
      ]
     },
     "metadata": {},
     "output_type": "display_data"
    },
    {
     "data": {
      "application/vnd.jupyter.widget-view+json": {
       "model_id": "57d5422e2a184491b5cc2abc41fb3e39",
       "version_major": 2,
       "version_minor": 0
      },
      "text/plain": [
       "  0%|          | 0/784 [00:00<?, ?it/s]"
      ]
     },
     "metadata": {},
     "output_type": "display_data"
    },
    {
     "data": {
      "application/vnd.jupyter.widget-view+json": {
       "model_id": "b28223d7584740fd9bd366f5ca8cb95f",
       "version_major": 2,
       "version_minor": 0
      },
      "text/plain": [
       "  0%|          | 0/812 [00:00<?, ?it/s]"
      ]
     },
     "metadata": {},
     "output_type": "display_data"
    },
    {
     "data": {
      "application/vnd.jupyter.widget-view+json": {
       "model_id": "789d24c1d58b4470b87b81ee5863d75a",
       "version_major": 2,
       "version_minor": 0
      },
      "text/plain": [
       "  0%|          | 0/420 [00:00<?, ?it/s]"
      ]
     },
     "metadata": {},
     "output_type": "display_data"
    },
    {
     "data": {
      "application/vnd.jupyter.widget-view+json": {
       "model_id": "b718e722a96346269391ecb61438b60a",
       "version_major": 2,
       "version_minor": 0
      },
      "text/plain": [
       "  0%|          | 0/588 [00:00<?, ?it/s]"
      ]
     },
     "metadata": {},
     "output_type": "display_data"
    }
   ],
   "source": [
    "pd_imgs = []\n",
    "pr_imgs = []\n",
    "cr_imgs = []\n",
    "hlthy_imgs = []\n",
    "all_imgs = []\n",
    "\n",
    "PD_PATCHES_FOLDER = \"patches_512/PD-R1-NA-6-dapi-20a-telC-CERPNB-40x002-MaxIP - Stitched_patches\"\n",
    "PR_PATCHES_FOLDER = \"patches_512/PR-NA14-R1-dapi-20a-telC-cepnB-40x009-MaxIP - Stitched_patches\"\n",
    "CR_PATCHES_FOLDER_1 = \"patches_512/R1-CR-NA-12-dapi-20a-telc-cepnB-40x scan004-MaxIP - Stitched_patches\"\n",
    "CR_PATCHES_FOLDER_2 = \"patches_512/R1-CR-NA-12-dapi-20a-telC-cepnB-40x002-MaxIP - Stitched_patches\"\n",
    "HLTHY_PATCHES_FOLDER = \"patches_512/Smooth Muscle-NA-2-dapi-20a-telC-CEPRNB-40x-MaxIP - Stitched_patches\"\n",
    "\n",
    "for img_name in tqdm(os.listdir(PD_PATCHES_FOLDER)):\n",
    "    img_path = os.path.join(PD_PATCHES_FOLDER, img_name)\n",
    "    img = plt.imread(img_path)\n",
    "    if img.shape == (512, 512):\n",
    "        pd_imgs.append(img)\n",
    "        all_imgs.append(img)\n",
    "\n",
    "for img_name in tqdm(os.listdir(PR_PATCHES_FOLDER)):\n",
    "    img_path = os.path.join(PR_PATCHES_FOLDER, img_name)\n",
    "    img = plt.imread(img_path)\n",
    "    if img.shape == (512, 512):\n",
    "        pr_imgs.append(img)\n",
    "        all_imgs.append(img)\n",
    "\n",
    "for img_name in tqdm(os.listdir(CR_PATCHES_FOLDER_1)):\n",
    "    img_path = os.path.join(CR_PATCHES_FOLDER_1, img_name)\n",
    "    img = plt.imread(img_path)\n",
    "    if img.shape == (512, 512):\n",
    "        cr_imgs.append(img)\n",
    "        all_imgs.append(img)\n",
    "\n",
    "for img_name in tqdm(os.listdir(CR_PATCHES_FOLDER_2)):\n",
    "    img_path = os.path.join(CR_PATCHES_FOLDER_2, img_name)\n",
    "    img = plt.imread(img_path)\n",
    "    if img.shape == (512, 512):\n",
    "        cr_imgs.append(img)\n",
    "        all_imgs.append(img)\n",
    "\n",
    "for img_name in tqdm(os.listdir(HLTHY_PATCHES_FOLDER)):\n",
    "    img_path = os.path.join(HLTHY_PATCHES_FOLDER, img_name)\n",
    "    img = plt.imread(img_path)\n",
    "    if img.shape == (512, 512):\n",
    "        hlthy_imgs.append(img)\n",
    "        all_imgs.append(img)"
   ]
  },
  {
   "cell_type": "markdown",
   "metadata": {},
   "source": [
    "### Spliting in train, val, test"
   ]
  },
  {
   "cell_type": "code",
   "execution_count": 3,
   "metadata": {},
   "outputs": [],
   "source": [
    "X = np.array(all_imgs)\n",
    "y = np.hstack([\n",
    "    0*np.ones(len(pd_imgs)),\n",
    "    1*np.ones(len(pr_imgs)),\n",
    "    2*np.ones(len(cr_imgs)),\n",
    "    3*np.ones(len(hlthy_imgs))\n",
    "])"
   ]
  },
  {
   "cell_type": "code",
   "execution_count": 4,
   "metadata": {},
   "outputs": [
    {
     "name": "stdout",
     "output_type": "stream",
     "text": [
      "X_train: (1878, 512, 512), y_train: (1878,)\n",
      "X_val: (627, 512, 512), y_val: (627,)\n",
      "X_test: (627, 512, 512), y_test: (627,)\n"
     ]
    }
   ],
   "source": [
    "X_train_val, X_test, y_train_val, y_test = train_test_split(\n",
    "    X, y, test_size=0.2, random_state=42, stratify=y\n",
    ")\n",
    "\n",
    "X_train, X_val, y_train, y_val = train_test_split(\n",
    "    X_train_val, y_train_val, test_size=0.25, random_state=42, stratify=y_train_val\n",
    ")\n",
    "\n",
    "print(f\"X_train: {X_train.shape}, y_train: {y_train.shape}\")\n",
    "print(f\"X_val: {X_val.shape}, y_val: {y_val.shape}\")\n",
    "print(f\"X_test: {X_test.shape}, y_test: {y_test.shape}\")"
   ]
  },
  {
   "cell_type": "markdown",
   "metadata": {},
   "source": [
    "### Datasets"
   ]
  },
  {
   "cell_type": "code",
   "execution_count": 5,
   "metadata": {},
   "outputs": [],
   "source": [
    "class CustomImageDataset(Dataset):\n",
    "    def __init__(self, images, labels, transform=None):\n",
    "        self.images = images\n",
    "        self.labels = labels\n",
    "        self.transform = transform\n",
    "\n",
    "    def __len__(self):\n",
    "        return len(self.images)\n",
    "\n",
    "    def __getitem__(self, idx):\n",
    "        image = self.images[idx]\n",
    "        label = self.labels[idx]\n",
    "        \n",
    "        if self.transform:\n",
    "            image = self.transform(image)\n",
    "        else:\n",
    "            image = torch.tensor(image, dtype=torch.float32)\n",
    "            image = image.unsqueeze(0)\n",
    "        label = torch.tensor(label, dtype=torch.int64)\n",
    "\n",
    "        return image, label"
   ]
  },
  {
   "cell_type": "code",
   "execution_count": 6,
   "metadata": {},
   "outputs": [],
   "source": [
    "transform = transforms.Compose([\n",
    "    transforms.ToPILImage(),                # Convert to PIL Image\n",
    "    transforms.Resize((224, 224)),          # Resize to 224x224\n",
    "    transforms.Grayscale(num_output_channels=3),  # Convert grayscale to 3 channels\n",
    "    transforms.ToTensor(),                  # Convert to Tensor\n",
    "    transforms.Normalize(mean=[0.485, 0.456, 0.406], std=[0.229, 0.224, 0.225]),  # Normalize\n",
    "])"
   ]
  },
  {
   "cell_type": "code",
   "execution_count": 7,
   "metadata": {},
   "outputs": [],
   "source": [
    "train_dataset = CustomImageDataset(X_train, y_train, transform=transform)\n",
    "val_dataset = CustomImageDataset(X_val, y_val, transform=transform)\n",
    "test_dataset = CustomImageDataset(X_test, y_test, transform=transform)"
   ]
  },
  {
   "cell_type": "markdown",
   "metadata": {},
   "source": [
    "### Train function, Hyperparameters and Loading ResNet"
   ]
  },
  {
   "cell_type": "code",
   "execution_count": 19,
   "metadata": {},
   "outputs": [],
   "source": [
    "def train_model(\n",
    "        num_epochs, \n",
    "        model, \n",
    "        criterion,\n",
    "        device, \n",
    "        optimizer,\n",
    "        train_dataloader, \n",
    "        valid_dataloader, \n",
    "        curr_best_val_acc=0\n",
    "):\n",
    "    timestamp = datetime.now().strftime('%Y%m%d_%H%M%S')\n",
    "    curr_best_val_acc = curr_best_val_acc\n",
    "    train_losses = []\n",
    "    val_losses = []\n",
    "    train_accuracies = []\n",
    "    val_accuracies = []\n",
    "    best_model = model\n",
    "\n",
    "    for epoch in range(num_epochs):\n",
    "        model.train()\n",
    "        curr_train_loss = 0.0\n",
    "        correct_train = 0\n",
    "        total_train = 0\n",
    "        for i, (images, labels) in enumerate(train_dataloader):\n",
    "            images, labels = images.to(device), labels.to(device)\n",
    "            optimizer.zero_grad()\n",
    "            outputs = model(images)\n",
    "\n",
    "            loss = criterion(outputs, labels)\n",
    "            loss.backward()\n",
    "            optimizer.step()\n",
    "            \n",
    "            curr_train_loss += loss.item()\n",
    "            _, preds = torch.max(outputs, 1)\n",
    "            correct_train += (preds == labels).sum().item()\n",
    "            total_train += labels.size(0)\n",
    "            # print(f\"Training Batch [{i+1}/{len(train_dataloader)}] --- Acc: {correct_train / total_train}\")\n",
    "\n",
    "        curr_train_loss /= len(train_dataloader)\n",
    "        train_losses.append(curr_train_loss)\n",
    "        train_accuracies.append(correct_train / total_train)\n",
    "\n",
    "        model.eval()\n",
    "        curr_val_loss = 0.0\n",
    "        correct_val = 0\n",
    "        total_val = 0\n",
    "        with torch.no_grad():\n",
    "            for images, labels in valid_dataloader:\n",
    "                images, labels = images.to(device), labels.to(device)\n",
    "                outputs = model(images)\n",
    "                loss = criterion(outputs, labels)\n",
    "\n",
    "                curr_val_loss += loss.item()\n",
    "                _, preds = torch.max(outputs, 1)\n",
    "                correct_val += (preds == labels).sum().item()\n",
    "                total_val += labels.size(0)\n",
    "            curr_val_loss /= len(valid_dataloader)\n",
    "            val_losses.append(curr_val_loss)\n",
    "            val_accuracies.append(correct_val / total_val)\n",
    "\n",
    "        if val_accuracies[-1] > curr_best_val_acc:\n",
    "            curr_best_val_acc = val_accuracies[-1]\n",
    "            best_model = deepcopy(model)\n",
    "            torch.save(model.state_dict(), f'squeezenets/squeezenet_{str(timestamp)}.pth')\n",
    "\n",
    "        print(f\"[{epoch+1}]/[{num_epochs}] --- Train loss : {curr_train_loss} --- Val loss : {curr_val_loss}\")\n",
    "        print(f\"[{epoch+1}]/[{num_epochs}] --- Train acc : {train_accuracies[-1]} --- Val acc : {val_accuracies[-1]}\")\n",
    "\n",
    "    return best_model, train_losses, val_losses, train_accuracies, val_accuracies"
   ]
  },
  {
   "cell_type": "code",
   "execution_count": 20,
   "metadata": {},
   "outputs": [
    {
     "data": {
      "text/plain": [
       "SqueezeNet(\n",
       "  (features): Sequential(\n",
       "    (0): Conv2d(3, 96, kernel_size=(7, 7), stride=(2, 2))\n",
       "    (1): ReLU(inplace=True)\n",
       "    (2): MaxPool2d(kernel_size=3, stride=2, padding=0, dilation=1, ceil_mode=True)\n",
       "    (3): Fire(\n",
       "      (squeeze): Conv2d(96, 16, kernel_size=(1, 1), stride=(1, 1))\n",
       "      (squeeze_activation): ReLU(inplace=True)\n",
       "      (expand1x1): Conv2d(16, 64, kernel_size=(1, 1), stride=(1, 1))\n",
       "      (expand1x1_activation): ReLU(inplace=True)\n",
       "      (expand3x3): Conv2d(16, 64, kernel_size=(3, 3), stride=(1, 1), padding=(1, 1))\n",
       "      (expand3x3_activation): ReLU(inplace=True)\n",
       "    )\n",
       "    (4): Fire(\n",
       "      (squeeze): Conv2d(128, 16, kernel_size=(1, 1), stride=(1, 1))\n",
       "      (squeeze_activation): ReLU(inplace=True)\n",
       "      (expand1x1): Conv2d(16, 64, kernel_size=(1, 1), stride=(1, 1))\n",
       "      (expand1x1_activation): ReLU(inplace=True)\n",
       "      (expand3x3): Conv2d(16, 64, kernel_size=(3, 3), stride=(1, 1), padding=(1, 1))\n",
       "      (expand3x3_activation): ReLU(inplace=True)\n",
       "    )\n",
       "    (5): Fire(\n",
       "      (squeeze): Conv2d(128, 32, kernel_size=(1, 1), stride=(1, 1))\n",
       "      (squeeze_activation): ReLU(inplace=True)\n",
       "      (expand1x1): Conv2d(32, 128, kernel_size=(1, 1), stride=(1, 1))\n",
       "      (expand1x1_activation): ReLU(inplace=True)\n",
       "      (expand3x3): Conv2d(32, 128, kernel_size=(3, 3), stride=(1, 1), padding=(1, 1))\n",
       "      (expand3x3_activation): ReLU(inplace=True)\n",
       "    )\n",
       "    (6): MaxPool2d(kernel_size=3, stride=2, padding=0, dilation=1, ceil_mode=True)\n",
       "    (7): Fire(\n",
       "      (squeeze): Conv2d(256, 32, kernel_size=(1, 1), stride=(1, 1))\n",
       "      (squeeze_activation): ReLU(inplace=True)\n",
       "      (expand1x1): Conv2d(32, 128, kernel_size=(1, 1), stride=(1, 1))\n",
       "      (expand1x1_activation): ReLU(inplace=True)\n",
       "      (expand3x3): Conv2d(32, 128, kernel_size=(3, 3), stride=(1, 1), padding=(1, 1))\n",
       "      (expand3x3_activation): ReLU(inplace=True)\n",
       "    )\n",
       "    (8): Fire(\n",
       "      (squeeze): Conv2d(256, 48, kernel_size=(1, 1), stride=(1, 1))\n",
       "      (squeeze_activation): ReLU(inplace=True)\n",
       "      (expand1x1): Conv2d(48, 192, kernel_size=(1, 1), stride=(1, 1))\n",
       "      (expand1x1_activation): ReLU(inplace=True)\n",
       "      (expand3x3): Conv2d(48, 192, kernel_size=(3, 3), stride=(1, 1), padding=(1, 1))\n",
       "      (expand3x3_activation): ReLU(inplace=True)\n",
       "    )\n",
       "    (9): Fire(\n",
       "      (squeeze): Conv2d(384, 48, kernel_size=(1, 1), stride=(1, 1))\n",
       "      (squeeze_activation): ReLU(inplace=True)\n",
       "      (expand1x1): Conv2d(48, 192, kernel_size=(1, 1), stride=(1, 1))\n",
       "      (expand1x1_activation): ReLU(inplace=True)\n",
       "      (expand3x3): Conv2d(48, 192, kernel_size=(3, 3), stride=(1, 1), padding=(1, 1))\n",
       "      (expand3x3_activation): ReLU(inplace=True)\n",
       "    )\n",
       "    (10): Fire(\n",
       "      (squeeze): Conv2d(384, 64, kernel_size=(1, 1), stride=(1, 1))\n",
       "      (squeeze_activation): ReLU(inplace=True)\n",
       "      (expand1x1): Conv2d(64, 256, kernel_size=(1, 1), stride=(1, 1))\n",
       "      (expand1x1_activation): ReLU(inplace=True)\n",
       "      (expand3x3): Conv2d(64, 256, kernel_size=(3, 3), stride=(1, 1), padding=(1, 1))\n",
       "      (expand3x3_activation): ReLU(inplace=True)\n",
       "    )\n",
       "    (11): MaxPool2d(kernel_size=3, stride=2, padding=0, dilation=1, ceil_mode=True)\n",
       "    (12): Fire(\n",
       "      (squeeze): Conv2d(512, 64, kernel_size=(1, 1), stride=(1, 1))\n",
       "      (squeeze_activation): ReLU(inplace=True)\n",
       "      (expand1x1): Conv2d(64, 256, kernel_size=(1, 1), stride=(1, 1))\n",
       "      (expand1x1_activation): ReLU(inplace=True)\n",
       "      (expand3x3): Conv2d(64, 256, kernel_size=(3, 3), stride=(1, 1), padding=(1, 1))\n",
       "      (expand3x3_activation): ReLU(inplace=True)\n",
       "    )\n",
       "  )\n",
       "  (classifier): Sequential(\n",
       "    (0): Dropout(p=0.5, inplace=False)\n",
       "    (1): Conv2d(512, 4, kernel_size=(1, 1), stride=(1, 1))\n",
       "    (2): ReLU(inplace=True)\n",
       "    (3): AdaptiveAvgPool2d(output_size=(1, 1))\n",
       "  )\n",
       ")"
      ]
     },
     "execution_count": 20,
     "metadata": {},
     "output_type": "execute_result"
    }
   ],
   "source": [
    "batch_size = 64\n",
    "\n",
    "train_dataloader = DataLoader(train_dataset, batch_size=batch_size, shuffle=True)\n",
    "val_dataloader = DataLoader(val_dataset, batch_size=batch_size, shuffle=False)\n",
    "test_dataloader = DataLoader(test_dataset, batch_size=batch_size, shuffle=False)\n",
    "\n",
    "num_classes = 4\n",
    "model = squeezenet1_0(weights=SqueezeNet1_0_Weights.IMAGENET1K_V1)\n",
    "model.classifier[1] = nn.Conv2d(512, num_classes, kernel_size=1)\n",
    "\n",
    "lr = 1e-4\n",
    "criterion = nn.CrossEntropyLoss()\n",
    "optimizer = torch.optim.Adam(model.parameters(), lr=lr)\n",
    "num_epochs = 50\n",
    "device = torch.device('cuda' if torch.cuda.is_available() else 'cpu')\n",
    "model.to(device)"
   ]
  },
  {
   "cell_type": "markdown",
   "metadata": {},
   "source": [
    "### Training"
   ]
  },
  {
   "cell_type": "code",
   "execution_count": 21,
   "metadata": {},
   "outputs": [
    {
     "name": "stdout",
     "output_type": "stream",
     "text": [
      "[1]/[50] --- Train loss : 1.2342118442058563 --- Val loss : 1.1409247875213624\n",
      "[1]/[50] --- Train acc : 0.4382321618743344 --- Val acc : 0.49760765550239233\n",
      "[2]/[50] --- Train loss : 1.0383554339408874 --- Val loss : 0.978458046913147\n",
      "[2]/[50] --- Train acc : 0.5814696485623003 --- Val acc : 0.6012759170653907\n",
      "[3]/[50] --- Train loss : 0.9081590831279754 --- Val loss : 1.0168898224830627\n",
      "[3]/[50] --- Train acc : 0.6395101171458999 --- Val acc : 0.6395534290271132\n",
      "[4]/[50] --- Train loss : 0.8650311807791392 --- Val loss : 0.7848710417747498\n",
      "[4]/[50] --- Train acc : 0.6490947816826411 --- Val acc : 0.696969696969697\n",
      "[5]/[50] --- Train loss : 0.7976066788037618 --- Val loss : 0.7249710381031036\n",
      "[5]/[50] --- Train acc : 0.6826411075612353 --- Val acc : 0.7272727272727273\n",
      "[6]/[50] --- Train loss : 0.7519801080226898 --- Val loss : 0.7150410532951355\n",
      "[6]/[50] --- Train acc : 0.7055378061767839 --- Val acc : 0.7511961722488039\n",
      "[7]/[50] --- Train loss : 0.7736409028371175 --- Val loss : 0.7626790881156922\n",
      "[7]/[50] --- Train acc : 0.6959531416400426 --- Val acc : 0.6778309409888357\n",
      "[8]/[50] --- Train loss : 0.6968460063139598 --- Val loss : 0.671395993232727\n",
      "[8]/[50] --- Train acc : 0.7231096911608094 --- Val acc : 0.7384370015948963\n",
      "[9]/[50] --- Train loss : 0.6952974637349446 --- Val loss : 0.7096198678016663\n",
      "[9]/[50] --- Train acc : 0.7337593184238551 --- Val acc : 0.7352472089314195\n",
      "[10]/[50] --- Train loss : 0.6702608207861582 --- Val loss : 0.6142318665981292\n",
      "[10]/[50] --- Train acc : 0.7438764643237487 --- Val acc : 0.7496012759170654\n",
      "[11]/[50] --- Train loss : 0.6078811009724935 --- Val loss : 0.621170163154602\n",
      "[11]/[50] --- Train acc : 0.7625133120340788 --- Val acc : 0.74481658692185\n",
      "[12]/[50] --- Train loss : 0.5907796134551366 --- Val loss : 0.6986675560474396\n",
      "[12]/[50] --- Train acc : 0.7699680511182109 --- Val acc : 0.7049441786283892\n",
      "[13]/[50] --- Train loss : 0.6157367676496506 --- Val loss : 0.5827816516160965\n",
      "[13]/[50] --- Train acc : 0.7635782747603834 --- Val acc : 0.7687400318979266\n",
      "[14]/[50] --- Train loss : 0.5456114997466405 --- Val loss : 0.5672948241233826\n",
      "[14]/[50] --- Train acc : 0.7811501597444089 --- Val acc : 0.7751196172248804\n",
      "[15]/[50] --- Train loss : 0.5437244703372319 --- Val loss : 0.7527489006519318\n",
      "[15]/[50] --- Train acc : 0.788604898828541 --- Val acc : 0.7049441786283892\n",
      "[16]/[50] --- Train loss : 0.5255831331014633 --- Val loss : 0.573938125371933\n",
      "[16]/[50] --- Train acc : 0.7896698615548455 --- Val acc : 0.784688995215311\n",
      "[17]/[50] --- Train loss : 0.5390153845151265 --- Val loss : 0.5809270977973938\n",
      "[17]/[50] --- Train acc : 0.7891373801916933 --- Val acc : 0.7687400318979266\n",
      "[18]/[50] --- Train loss : 0.5051034738620123 --- Val loss : 0.5115777909755707\n",
      "[18]/[50] --- Train acc : 0.8072417465388712 --- Val acc : 0.8070175438596491\n",
      "[19]/[50] --- Train loss : 0.4760810673236847 --- Val loss : 0.5384752839803696\n",
      "[19]/[50] --- Train acc : 0.808839190628328 --- Val acc : 0.8006379585326954\n",
      "[20]/[50] --- Train loss : 0.4514460394779841 --- Val loss : 0.5396337360143661\n",
      "[20]/[50] --- Train acc : 0.825346112886049 --- Val acc : 0.7719298245614035\n",
      "[21]/[50] --- Train loss : 0.4718956415851911 --- Val loss : 0.5374709218740463\n",
      "[21]/[50] --- Train acc : 0.8189563365282215 --- Val acc : 0.7942583732057417\n",
      "[22]/[50] --- Train loss : 0.4875334233045578 --- Val loss : 0.5627941578626633\n",
      "[22]/[50] --- Train acc : 0.8013844515441959 --- Val acc : 0.7719298245614035\n",
      "[23]/[50] --- Train loss : 0.4155541658401489 --- Val loss : 0.46144878268241885\n",
      "[23]/[50] --- Train acc : 0.8312034078807242 --- Val acc : 0.8181818181818182\n",
      "[24]/[50] --- Train loss : 0.39885157396396004 --- Val loss : 0.49176934361457825\n",
      "[24]/[50] --- Train acc : 0.8487752928647497 --- Val acc : 0.8149920255183413\n",
      "[25]/[50] --- Train loss : 0.3698290074865023 --- Val loss : 0.4709241211414337\n",
      "[25]/[50] --- Train acc : 0.8519701810436635 --- Val acc : 0.8197767145135566\n",
      "[26]/[50] --- Train loss : 0.35653999050458274 --- Val loss : 0.5088847488164902\n",
      "[26]/[50] --- Train acc : 0.8647497337593184 --- Val acc : 0.7926634768740032\n",
      "[27]/[50] --- Train loss : 0.3757067898909251 --- Val loss : 0.5178695976734161\n",
      "[27]/[50] --- Train acc : 0.8482428115015974 --- Val acc : 0.7910685805422647\n",
      "[28]/[50] --- Train loss : 0.3959074194232623 --- Val loss : 0.5406251609325409\n",
      "[28]/[50] --- Train acc : 0.845580404685836 --- Val acc : 0.7894736842105263\n",
      "[29]/[50] --- Train loss : 0.4513330101966858 --- Val loss : 0.54826899766922\n",
      "[29]/[50] --- Train acc : 0.8322683706070287 --- Val acc : 0.8197767145135566\n",
      "[30]/[50] --- Train loss : 0.37736494143803917 --- Val loss : 0.45858554542064667\n",
      "[30]/[50] --- Train acc : 0.8588924387646433 --- Val acc : 0.8309409888357256\n",
      "[31]/[50] --- Train loss : 0.2941718056797981 --- Val loss : 0.4780484288930893\n",
      "[31]/[50] --- Train acc : 0.8892438764643238 --- Val acc : 0.8197767145135566\n",
      "[32]/[50] --- Train loss : 0.34500440359115603 --- Val loss : 0.48394282162189484\n",
      "[32]/[50] --- Train acc : 0.8663471778487752 --- Val acc : 0.8213716108452951\n",
      "[33]/[50] --- Train loss : 0.3057816460728645 --- Val loss : 0.4557484030723572\n",
      "[33]/[50] --- Train acc : 0.8844515441959532 --- Val acc : 0.8452950558213717\n",
      "[34]/[50] --- Train loss : 0.27648042341073353 --- Val loss : 0.5316510081291199\n",
      "[34]/[50] --- Train acc : 0.8839190628328009 --- Val acc : 0.810207336523126\n",
      "[35]/[50] --- Train loss : 0.30351196775833766 --- Val loss : 0.5467803239822387\n",
      "[35]/[50] --- Train acc : 0.8849840255591054 --- Val acc : 0.8086124401913876\n",
      "[36]/[50] --- Train loss : 0.35620179822047554 --- Val loss : 0.48172282576560976\n",
      "[36]/[50] --- Train acc : 0.8652822151224707 --- Val acc : 0.8373205741626795\n",
      "[37]/[50] --- Train loss : 0.27440675844748813 --- Val loss : 0.4817527920007706\n",
      "[37]/[50] --- Train acc : 0.8919062832800851 --- Val acc : 0.8070175438596491\n",
      "[38]/[50] --- Train loss : 0.25780567079782485 --- Val loss : 0.4414466738700867\n",
      "[38]/[50] --- Train acc : 0.9009584664536742 --- Val acc : 0.8500797448165869\n",
      "[39]/[50] --- Train loss : 0.21659521212180455 --- Val loss : 0.4474821165204048\n",
      "[39]/[50] --- Train acc : 0.9211927582534611 --- Val acc : 0.8293460925039873\n",
      "[40]/[50] --- Train loss : 0.2719017595052719 --- Val loss : 0.45004701167345046\n",
      "[40]/[50] --- Train acc : 0.9057507987220448 --- Val acc : 0.835725677830941\n",
      "[41]/[50] --- Train loss : 0.2290397197008133 --- Val loss : 0.47165126651525496\n",
      "[41]/[50] --- Train acc : 0.9195953141640043 --- Val acc : 0.8405103668261563\n",
      "[42]/[50] --- Train loss : 0.24122582773367565 --- Val loss : 0.4308580234646797\n",
      "[42]/[50] --- Train acc : 0.9036208732694355 --- Val acc : 0.8484848484848485\n",
      "[43]/[50] --- Train loss : 0.1951467218498389 --- Val loss : 0.43785666972398757\n",
      "[43]/[50] --- Train acc : 0.9297124600638977 --- Val acc : 0.8628389154704944\n",
      "[44]/[50] --- Train loss : 0.1924701489508152 --- Val loss : 0.4424616485834122\n",
      "[44]/[50] --- Train acc : 0.9307774227902024 --- Val acc : 0.8373205741626795\n",
      "[45]/[50] --- Train loss : 0.22420495599508286 --- Val loss : 0.4305595636367798\n",
      "[45]/[50] --- Train acc : 0.9179978700745474 --- Val acc : 0.8516746411483254\n",
      "[46]/[50] --- Train loss : 0.20797399630149205 --- Val loss : 0.4576987251639366\n",
      "[46]/[50] --- Train acc : 0.9222577209797657 --- Val acc : 0.84688995215311\n",
      "[47]/[50] --- Train loss : 0.18085546021660168 --- Val loss : 0.423961840569973\n",
      "[47]/[50] --- Train acc : 0.9366347177848775 --- Val acc : 0.8421052631578947\n",
      "[48]/[50] --- Train loss : 0.17867505600055059 --- Val loss : 0.44947849959135056\n",
      "[48]/[50] --- Train acc : 0.9297124600638977 --- Val acc : 0.8532695374800638\n",
      "[49]/[50] --- Train loss : 0.1553866205116113 --- Val loss : 0.4569054156541824\n",
      "[49]/[50] --- Train acc : 0.9478168264110756 --- Val acc : 0.861244019138756\n",
      "[50]/[50] --- Train loss : 0.14218767657876014 --- Val loss : 0.44613721668720246\n",
      "[50]/[50] --- Train acc : 0.9552715654952076 --- Val acc : 0.8500797448165869\n"
     ]
    }
   ],
   "source": [
    "best_model, train_losses, val_losses, train_accuracies, val_accuracies = train_model(\n",
    "    num_epochs,\n",
    "    model,\n",
    "    criterion,\n",
    "    device,\n",
    "    optimizer,\n",
    "    train_dataloader,\n",
    "    val_dataloader\n",
    ")"
   ]
  },
  {
   "cell_type": "code",
   "execution_count": 22,
   "metadata": {},
   "outputs": [
    {
     "data": {
      "image/png": "[encoded data removed]",
      "text/plain": [
       "<Figure size 640x480 with 1 Axes>"
      ]
     },
     "metadata": {},
     "output_type": "display_data"
    },
    {
     "data": {
      "image/png": "[encoded data removed]",
      "text/plain": [
       "<Figure size 640x480 with 1 Axes>"
      ]
     },
     "metadata": {},
     "output_type": "display_data"
    }
   ],
   "source": [
    "plt.plot(train_losses, label=\"Training\")\n",
    "plt.plot(val_losses, label=\"Validation\")\n",
    "plt.xlabel(\"Epochs\")\n",
    "plt.ylabel(\"Losses\")\n",
    "plt.title(\"Loss curves\")\n",
    "plt.legend()\n",
    "plt.grid(1)\n",
    "plt.show()\n",
    "\n",
    "\n",
    "plt.plot(train_accuracies, label=\"Training\")\n",
    "plt.plot(val_accuracies, label=\"Validation\")\n",
    "plt.xlabel(\"Epochs\")\n",
    "plt.ylabel(\"Accuracy\")\n",
    "plt.title(\"Accuracy curves\")\n",
    "plt.legend()\n",
    "plt.grid(1)\n",
    "plt.show()"
   ]
  },
  {
   "cell_type": "code",
   "execution_count": 23,
   "metadata": {},
   "outputs": [
    {
     "name": "stdout",
     "output_type": "stream",
     "text": [
      "Test Accuracy: 80.86%\n",
      "Confusion Matrix:\n",
      "[[111  21   6   8]\n",
      " [ 20 102  17   7]\n",
      " [  4  17 198   8]\n",
      " [  3   3   6  96]]\n"
     ]
    }
   ],
   "source": [
    "best_model.to(device)\n",
    "best_model.eval()\n",
    "\n",
    "all_labels = []\n",
    "all_preds = []\n",
    "\n",
    "with torch.no_grad():\n",
    "    for images, labels in test_dataloader:\n",
    "        images, labels = images.to(device), labels.to(device)\n",
    "        outputs = best_model(images)\n",
    "        _, preds = torch.max(outputs, 1)\n",
    "        all_labels.extend(labels.cpu().numpy())\n",
    "        all_preds.extend(preds.cpu().numpy())\n",
    "\n",
    "accuracy = accuracy_score(all_labels, all_preds)\n",
    "print(f\"Test Accuracy: {accuracy * 100:.2f}%\")\n",
    "\n",
    "conf_matrix = confusion_matrix(all_labels, all_preds)\n",
    "print(\"Confusion Matrix:\")\n",
    "print(conf_matrix)"
   ]
  },
  {
   "cell_type": "code",
   "execution_count": 24,
   "metadata": {},
   "outputs": [
    {
     "name": "stdout",
     "output_type": "stream",
     "text": [
      "Accuracy for class PD: 76.03%\n",
      "Accuracy for class PR: 69.86%\n",
      "Accuracy for class CR: 87.22%\n",
      "Accuracy for class HLTHY: 88.89%\n"
     ]
    }
   ],
   "source": [
    "classes = ['PD', 'PR', 'CR', 'HLTHY']\n",
    "class_accuracies = conf_matrix.diagonal() / conf_matrix.sum(axis=1)\n",
    "for i, class_name in enumerate(classes):\n",
    "    print(f\"Accuracy for class {class_name}: {class_accuracies[i] * 100:.2f}%\")"
   ]
  },
  {
   "cell_type": "code",
   "execution_count": 25,
   "metadata": {},
   "outputs": [
    {
     "data": {
      "image/png": "[encoded data removed]",
      "text/plain": [
       "<Figure size 500x400 with 2 Axes>"
      ]
     },
     "metadata": {},
     "output_type": "display_data"
    }
   ],
   "source": [
    "plt.figure(figsize=(5, 4))\n",
    "sns.heatmap(conf_matrix, annot=True, fmt='d', cmap='seismic', xticklabels=classes, yticklabels=classes)\n",
    "plt.xlabel('Predicted')\n",
    "plt.ylabel('True')\n",
    "plt.title('Confusion Matrix')\n",
    "plt.show()"
   ]
  }
 ],
 "metadata": {
  "kernelspec": {
   "display_name": "SAM-testing",
   "language": "python",
   "name": "python3"
  },
  "language_info": {
   "codemirror_mode": {
    "name": "ipython",
    "version": 3
   },
   "file_extension": ".py",
   "mimetype": "text/x-python",
   "name": "python",
   "nbconvert_exporter": "python",
   "pygments_lexer": "ipython3",
   "version": "3.10.15"
  }
 },
 "nbformat": 4,
 "nbformat_minor": 2
}
