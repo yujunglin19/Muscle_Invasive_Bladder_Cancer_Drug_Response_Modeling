{
  "cells": [
    {
      "cell_type": "code",
      "source": [
        "from google.colab import drive\n",
        "drive.mount('/content/drive')"
      ],
      "metadata": {
        "colab": {
          "base_uri": "https://localhost:8080/"
        },
        "id": "5Gv-HTInnly_",
        "outputId": "0860e3d7-9630-4a83-ae0d-8f5744bcc7cb"
      },
      "execution_count": null,
      "outputs": [
        {
          "output_type": "stream",
          "name": "stdout",
          "text": [
            "Mounted at /content/drive\n"
          ]
        }
      ]
    },
    {
      "cell_type": "markdown",
      "source": [
        "## Classification"
      ],
      "metadata": {
        "id": "m-XsLoC4nkxr"
      }
    },
    {
      "cell_type": "markdown",
      "metadata": {
        "id": "N6EGBmqNdSpa"
      },
      "source": [
        "### Imports"
      ]
    },
    {
      "cell_type": "code",
      "execution_count": null,
      "metadata": {
        "id": "4lm0FZjzdSpb"
      },
      "outputs": [],
      "source": [
        "import os\n",
        "import numpy as np\n",
        "import matplotlib.pyplot as plt\n",
        "import seaborn as sns\n",
        "from tqdm.notebook import tqdm\n",
        "from sklearn.model_selection import train_test_split\n",
        "from datetime import datetime\n",
        "from copy import deepcopy\n",
        "import torch\n",
        "from torch.utils.data import Dataset\n",
        "from torchvision import transforms, models\n",
        "from torch.utils.data import DataLoader\n",
        "from torchvision.models import ResNet18_Weights\n",
        "import torch.nn as nn\n",
        "from sklearn.metrics import confusion_matrix, accuracy_score"
      ]
    },
    {
      "cell_type": "markdown",
      "metadata": {
        "id": "zzdvdRsbdSpc"
      },
      "source": [
        "### Loading dataset"
      ]
    },
    {
      "cell_type": "code",
      "source": [
        "data_folder = '/content/drive/MyDrive/02740/02740 final project /size_1024'"
      ],
      "metadata": {
        "id": "df19Xp2YruVH"
      },
      "execution_count": null,
      "outputs": []
    },
    {
      "cell_type": "code",
      "source": [
        "import os\n",
        "\n",
        "os.listdir(data_folder)"
      ],
      "metadata": {
        "id": "R34iy9ZhrxlA"
      },
      "execution_count": null,
      "outputs": []
    },
    {
      "cell_type": "code",
      "source": [
        "classes_filepaths = {\n",
        "    0: [],\n",
        "    1: [],\n",
        "    2: [],\n",
        "    3: []\n",
        "}\n",
        "\n",
        "for folder in os.listdir(data_folder):\n",
        "    folder_path = os.path.join(data_folder, folder)\n",
        "    files = [os.path.join(folder_path, f) for f in os.listdir(folder_path)]\n",
        "    if 'PD' in folder:\n",
        "        classes_filepaths[0].extend(files)\n",
        "    elif 'PR-' in folder:\n",
        "        classes_filepaths[1].extend(files)\n",
        "    elif 'CR' in folder:\n",
        "        classes_filepaths[2].extend(files)\n",
        "    else:\n",
        "        classes_filepaths[3].extend(files)\n",
        "\n",
        "for i in classes_filepaths:\n",
        "    print(i, len(classes_filepaths[i]))\n"
      ],
      "metadata": {
        "colab": {
          "base_uri": "https://localhost:8080/"
        },
        "id": "mE8uAJTZr4-4",
        "outputId": "d52a2237-50a8-4107-94d8-615c0dc34df2"
      },
      "execution_count": null,
      "outputs": [
        {
          "output_type": "stream",
          "name": "stdout",
          "text": [
            "0 877\n",
            "1 646\n",
            "2 747\n",
            "3 445\n"
          ]
        }
      ]
    },
    {
      "cell_type": "markdown",
      "metadata": {
        "id": "WHQdkOdqdSpd"
      },
      "source": [
        "### Datasets"
      ]
    },
    {
      "cell_type": "code",
      "source": [
        "import torch\n",
        "from torch.utils.data import Dataset, DataLoader\n",
        "from torchvision import transforms\n",
        "from PIL import Image\n",
        "import os\n",
        "\n",
        "\n",
        "class CustomImageDataset(Dataset):\n",
        "    def __init__(self, image_paths, labels, transform=None):\n",
        "        \"\"\"\n",
        "        Args:\n",
        "            image_paths (list): List of image file paths.\n",
        "            labels (list): List of corresponding image labels.\n",
        "            transform (callable, optional): Optional transform to be applied\n",
        "                                            on a sample.\n",
        "        \"\"\"\n",
        "        self.image_paths = image_paths\n",
        "        self.labels = labels\n",
        "        self.transform = transform\n",
        "\n",
        "    def __len__(self):\n",
        "        return len(self.image_paths)\n",
        "\n",
        "    def __getitem__(self, idx):\n",
        "        img_path = self.image_paths[idx]\n",
        "        label = self.labels[idx]\n",
        "\n",
        "        # Open the image\n",
        "        image = Image.open(img_path).convert('RGB')\n",
        "\n",
        "        if self.transform:\n",
        "            image = self.transform(image)\n",
        "\n",
        "        return image, torch.tensor(label)"
      ],
      "metadata": {
        "id": "tWi2EYEknOAV"
      },
      "execution_count": null,
      "outputs": []
    },
    {
      "cell_type": "code",
      "source": [
        "def split_dataset(dataset_dict, test_size=0.2, val_size=0.2, random_seed=42):\n",
        "    # Step 1: Create lists for image paths and labels\n",
        "    image_paths = []\n",
        "    labels = []\n",
        "\n",
        "    for label, filenames in dataset_dict.items():\n",
        "        for filename in filenames:\n",
        "            image_paths.append(filename)\n",
        "            labels.append(label)\n",
        "\n",
        "    # Step 2: Split data into training + validation and test datasets\n",
        "    train_val_paths, test_paths, train_val_labels, test_labels = train_test_split(\n",
        "        image_paths, labels, test_size=test_size, stratify=labels, random_state=random_seed)\n",
        "\n",
        "    # Step 3: Split the remaining training+validation into train and validation datasets\n",
        "    val_size_adjusted = val_size / (1 - test_size)  # Adjust for the train + val split\n",
        "    train_paths, val_paths, train_labels, val_labels = train_test_split(\n",
        "        train_val_paths, train_val_labels, test_size=val_size_adjusted, stratify=train_val_labels, random_state=random_seed)\n",
        "\n",
        "    # Step 4: Create PyTorch datasets for each split\n",
        "    # Define transforms (for example, resizing and normalization)\n",
        "    transform = transforms.Compose([\n",
        "        transforms.Resize((1024, 1024)),\n",
        "        transforms.ToTensor(),\n",
        "        transforms.Normalize(mean=[0.485, 0.456, 0.406], std=[0.229, 0.224, 0.225]),\n",
        "    ])\n",
        "\n",
        "    train_dataset = CustomImageDataset(train_paths, train_labels, transform=transform)\n",
        "    val_dataset = CustomImageDataset(val_paths, val_labels, transform=transform)\n",
        "    test_dataset = CustomImageDataset(test_paths, test_labels, transform=transform)\n",
        "\n",
        "    return train_dataset, val_dataset, test_dataset"
      ],
      "metadata": {
        "id": "T0WNyqBBu67t"
      },
      "execution_count": null,
      "outputs": []
    },
    {
      "cell_type": "markdown",
      "source": [
        "### UNet"
      ],
      "metadata": {
        "id": "AnouVG6apxW-"
      }
    },
    {
      "cell_type": "code",
      "source": [
        "!pip install segmentation-models-pytorch"
      ],
      "metadata": {
        "id": "uLRLF8oZrFuF"
      },
      "execution_count": null,
      "outputs": []
    },
    {
      "cell_type": "code",
      "source": [
        "import torch\n",
        "import torch.nn as nn\n",
        "import torch.optim as optim\n",
        "from torchvision import models, transforms, datasets\n",
        "from torch.utils.data import DataLoader\n",
        "import segmentation_models_pytorch as smp\n",
        "\n",
        "class UNetForClassification(nn.Module):\n",
        "    def __init__(self, num_classes):\n",
        "        super(UNetForClassification, self).__init__()\n",
        "        self.unet = smp.Unet(encoder_name='resnet34', encoder_weights='imagenet', in_channels=3, classes=2) # 2 means 4: 00, 01, 10, 11\n",
        "\n",
        "        self.encoder = self.unet.encoder\n",
        "        self.global_pool = nn.AdaptiveAvgPool2d((1, 1))\n",
        "\n",
        "        self.fc = nn.Linear(self.encoder.out_channels[-1], num_classes)\n",
        "\n",
        "    def forward(self, x):\n",
        "        features = self.unet.encoder(x)\n",
        "        pooled = self.global_pool(features[-1])\n",
        "        pooled = torch.flatten(pooled, 1)\n",
        "        out = self.fc(pooled)\n",
        "        return out\n"
      ],
      "metadata": {
        "id": "iJqGXDQMyts4"
      },
      "execution_count": null,
      "outputs": []
    },
    {
      "cell_type": "markdown",
      "source": [
        "### Training"
      ],
      "metadata": {
        "id": "wxY7yh38nSX4"
      }
    },
    {
      "cell_type": "code",
      "source": [
        "# Split the dataset\n",
        "train_dataset, val_dataset, test_dataset = split_dataset(classes_filepaths)\n",
        "\n",
        "# Create DataLoaders for each dataset\n",
        "train_loader = DataLoader(train_dataset, batch_size=16, shuffle=True)\n",
        "val_loader = DataLoader(val_dataset, batch_size=16, shuffle=False)\n",
        "test_loader = DataLoader(test_dataset, batch_size=16, shuffle=False)"
      ],
      "metadata": {
        "id": "TwQsVcHZw-K0"
      },
      "execution_count": null,
      "outputs": []
    },
    {
      "cell_type": "code",
      "source": [
        "num_classes = 4\n",
        "model = UNetForClassification(num_classes=num_classes)\n",
        "\n",
        "device = torch.device(\"cuda\" if torch.cuda.is_available() else \"cpu\")\n",
        "model = model.to(device)\n",
        "print(device)\n",
        "\n",
        "criterion = nn.CrossEntropyLoss()\n",
        "optimizer = optim.Adam(model.parameters(), lr=0.001)"
      ],
      "metadata": {
        "colab": {
          "base_uri": "https://localhost:8080/"
        },
        "id": "gWR04pFuw2Y7",
        "outputId": "944bfabf-a436-4caa-dc45-7c88db791691"
      },
      "execution_count": null,
      "outputs": [
        {
          "output_type": "stream",
          "name": "stdout",
          "text": [
            "cuda\n"
          ]
        }
      ]
    },
    {
      "cell_type": "code",
      "execution_count": null,
      "metadata": {
        "id": "DHYOGun_dSpe"
      },
      "outputs": [],
      "source": [
        "from tqdm import tqdm\n",
        "\n",
        "def train_model(\n",
        "        num_epochs,\n",
        "        model,\n",
        "        criterion,\n",
        "        device,\n",
        "        optimizer,\n",
        "        train_dataloader,\n",
        "        valid_dataloader,\n",
        "        curr_best_val_acc=0\n",
        "):\n",
        "    timestamp = datetime.now().strftime('%Y%m%d_%H%M%S')\n",
        "    curr_best_val_acc = curr_best_val_acc\n",
        "    train_losses = []\n",
        "    val_losses = []\n",
        "    train_accuracies = []\n",
        "    val_accuracies = []\n",
        "    best_model = model\n",
        "\n",
        "    for epoch in range(num_epochs):\n",
        "        model.train()\n",
        "        curr_train_loss = 0.0\n",
        "        correct_train = 0\n",
        "        total_train = 0\n",
        "        for images, labels in tqdm(train_dataloader):\n",
        "            images, labels = images.to(device), labels.to(device)\n",
        "            optimizer.zero_grad()\n",
        "            outputs = model(images)\n",
        "\n",
        "            loss = criterion(outputs, labels)\n",
        "            loss.backward()\n",
        "            optimizer.step()\n",
        "\n",
        "            curr_train_loss += loss.item()\n",
        "            _, preds = torch.max(outputs, 1)\n",
        "            correct_train += (preds == labels).sum().item()\n",
        "            total_train += labels.size(0)\n",
        "\n",
        "        curr_train_loss /= len(train_dataloader)\n",
        "        train_losses.append(curr_train_loss)\n",
        "        train_accuracies.append(correct_train / total_train)\n",
        "\n",
        "        model.eval()\n",
        "        curr_val_loss = 0.0\n",
        "        correct_val = 0\n",
        "        total_val = 0\n",
        "        with torch.no_grad():\n",
        "            for images, labels in tqdm(valid_dataloader):\n",
        "                images, labels = images.to(device), labels.to(device)\n",
        "                outputs = model(images)\n",
        "                loss = criterion(outputs, labels)\n",
        "\n",
        "                curr_val_loss += loss.item()\n",
        "                _, preds = torch.max(outputs, 1)\n",
        "                correct_val += (preds == labels).sum().item()\n",
        "                total_val += labels.size(0)\n",
        "\n",
        "            curr_val_loss /= len(valid_dataloader)\n",
        "            val_losses.append(curr_val_loss)\n",
        "            val_accuracies.append(correct_val / total_val)\n",
        "\n",
        "        if val_accuracies[-1] > curr_best_val_acc:\n",
        "            curr_best_val_acc = val_accuracies[-1]\n",
        "            best_model = deepcopy(model)\n",
        "            torch.save(model.state_dict(), f'unet_{timestamp}_{curr_best_val_acc}.pth')\n",
        "\n",
        "        print(f\"[{epoch+1}]/[{num_epochs}] --- Train loss : {curr_train_loss} --- Val loss : {curr_val_loss}\")\n",
        "        print(f\"[{epoch+1}]/[{num_epochs}] --- Train acc : {train_accuracies[-1]} --- Val acc : {val_accuracies[-1]}\")\n",
        "\n",
        "    return best_model, train_losses, val_losses, train_accuracies, val_accuracies\n",
        "\n",
        "best_model, train_losses, val_losses, train_accuracies, val_accuracies = train_model(\n",
        "    10,\n",
        "    model,\n",
        "    criterion,\n",
        "    device,\n",
        "    optimizer,\n",
        "    train_loader,\n",
        "    val_loader\n",
        ")"
      ]
    },
    {
      "cell_type": "code",
      "execution_count": null,
      "metadata": {
        "id": "quvMPP1bdSpf"
      },
      "outputs": [],
      "source": [
        "plt.plot(train_losses, label=\"Training\")\n",
        "plt.plot(val_losses, label=\"Validation\")\n",
        "plt.xlabel(\"Epochs\")\n",
        "plt.ylabel(\"Losses\")\n",
        "plt.title(\"Loss curves\")\n",
        "plt.legend()\n",
        "plt.grid(1)\n",
        "plt.show()\n",
        "\n",
        "\n",
        "plt.plot(train_accuracies, label=\"Training\")\n",
        "plt.plot(val_accuracies, label=\"Validation\")\n",
        "plt.xlabel(\"Epochs\")\n",
        "plt.ylabel(\"Accuracy\")\n",
        "plt.title(\"Accuracy curves\")\n",
        "plt.legend()\n",
        "plt.grid(1)\n",
        "plt.show()"
      ]
    },
    {
      "cell_type": "markdown",
      "source": [
        "### Evaluation"
      ],
      "metadata": {
        "id": "8EiSTgCInWoz"
      }
    },
    {
      "cell_type": "code",
      "execution_count": null,
      "metadata": {
        "id": "-a9DR06ydSpf",
        "outputId": "a2321bef-0341-4b53-b4ea-f7fbb295d365",
        "colab": {
          "base_uri": "https://localhost:8080/"
        }
      },
      "outputs": [
        {
          "output_type": "stream",
          "name": "stderr",
          "text": [
            "100%|██████████| 34/34 [00:22<00:00,  1.49it/s]"
          ]
        },
        {
          "output_type": "stream",
          "name": "stdout",
          "text": [
            "Test Accuracy: 87.66%\n",
            "Confusion Matrix:\n",
            "[[149  10  12   5]\n",
            " [ 12 109   2   6]\n",
            " [  9   5 135   0]\n",
            " [  5   0   1  83]]\n"
          ]
        },
        {
          "output_type": "stream",
          "name": "stderr",
          "text": [
            "\n"
          ]
        }
      ],
      "source": [
        "best_model.to(device)\n",
        "best_model.eval()\n",
        "\n",
        "all_labels = []\n",
        "all_preds = []\n",
        "\n",
        "with torch.no_grad():\n",
        "    for images, labels in tqdm(test_loader):\n",
        "        images, labels = images.to(device), labels.to(device)\n",
        "        outputs = best_model(images)\n",
        "        _, preds = torch.max(outputs, 1)\n",
        "        all_labels.extend(labels.cpu().numpy())\n",
        "        all_preds.extend(preds.cpu().numpy())\n",
        "\n",
        "accuracy = accuracy_score(all_labels, all_preds)\n",
        "print(f\"Test Accuracy: {accuracy * 100:.2f}%\")\n",
        "\n",
        "conf_matrix = confusion_matrix(all_labels, all_preds)\n",
        "print(\"Confusion Matrix:\")\n",
        "print(conf_matrix)"
      ]
    },
    {
      "cell_type": "code",
      "source": [
        "conf_matrix = confusion_matrix(all_labels, all_preds)\n"
      ],
      "metadata": {
        "id": "7N_8QtZpPIGA"
      },
      "execution_count": null,
      "outputs": []
    },
    {
      "cell_type": "code",
      "execution_count": null,
      "metadata": {
        "id": "MKELpxjfdSpf",
        "outputId": "7d2f89d4-ff6f-4098-c2ba-3507bd6bfa27",
        "colab": {
          "base_uri": "https://localhost:8080/"
        }
      },
      "outputs": [
        {
          "output_type": "stream",
          "name": "stdout",
          "text": [
            "Accuracy for class PD: 84.66%\n",
            "Accuracy for class PR: 84.50%\n",
            "Accuracy for class CR: 90.60%\n",
            "Accuracy for class HLTHY: 93.26%\n"
          ]
        }
      ],
      "source": [
        "classes = ['PD', 'PR', 'CR', 'HLTHY']\n",
        "class_accuracies = conf_matrix.diagonal() / conf_matrix.sum(axis=1)\n",
        "for i, class_name in enumerate(classes):\n",
        "    print(f\"Accuracy for class {class_name}: {class_accuracies[i] * 100:.2f}%\")"
      ]
    },
    {
      "cell_type": "code",
      "execution_count": null,
      "metadata": {
        "id": "rCL_4N0hdSpf",
        "outputId": "e5deed6b-f8df-4a30-e52c-8396daba46a0",
        "colab": {
          "base_uri": "https://localhost:8080/",
          "height": 410
        }
      },
      "outputs": [
        {
          "output_type": "display_data",
          "data": {
            "text/plain": [
              "<Figure size 500x400 with 2 Axes>"
            ],
            "image/png": "[encoded data removed]"
          },
          "metadata": {}
        }
      ],
      "source": [
        "plt.figure(figsize=(5, 4))\n",
        "sns.heatmap(conf_matrix, annot=True, fmt='d', xticklabels=classes, yticklabels=classes)\n",
        "plt.xlabel('Predicted')\n",
        "plt.ylabel('True')\n",
        "plt.title('Confusion Matrix')\n",
        "plt.show()"
      ]
    },
    {
      "cell_type": "code",
      "source": [
        "conf_matrix = confusion_matrix(all_labels, all_preds, normalize='true')\n",
        "plt.figure(figsize=(5, 4))\n",
        "sns.heatmap(conf_matrix, annot=True, xticklabels=classes, yticklabels=classes)\n",
        "plt.xlabel('Predicted')\n",
        "plt.ylabel('True')\n",
        "plt.title('Confusion Matrix')\n",
        "plt.show()"
      ],
      "metadata": {
        "colab": {
          "base_uri": "https://localhost:8080/",
          "height": 410
        },
        "id": "OvtQziejFbFD",
        "outputId": "8f3714e8-03df-45d5-d867-1d11df4d0eec"
      },
      "execution_count": null,
      "outputs": [
        {
          "output_type": "display_data",
          "data": {
            "text/plain": [
              "<Figure size 500x400 with 2 Axes>"
            ],
            "image/png": "[encoded data removed]"
          },
          "metadata": {}
        }
      ]
    },
    {
      "cell_type": "code",
      "source": [
        "conf_matrix = confusion_matrix(all_labels, all_preds, normalize='pred')\n",
        "plt.figure(figsize=(5, 4))\n",
        "sns.heatmap(conf_matrix, annot=True, xticklabels=classes, yticklabels=classes)\n",
        "plt.xlabel('Predicted')\n",
        "plt.ylabel('True')\n",
        "plt.title('Confusion Matrix')\n",
        "plt.show()"
      ],
      "metadata": {
        "colab": {
          "base_uri": "https://localhost:8080/",
          "height": 410
        },
        "id": "jhY0SPB2ZXYF",
        "outputId": "d8ca30b6-e1a8-4908-c05c-44ce5e842b40"
      },
      "execution_count": null,
      "outputs": [
        {
          "output_type": "display_data",
          "data": {
            "text/plain": [
              "<Figure size 500x400 with 2 Axes>"
            ],
            "image/png": "[encoded data removed]"
          },
          "metadata": {}
        }
      ]
    },
    {
      "cell_type": "markdown",
      "source": [
        "## Explainability"
      ],
      "metadata": {
        "id": "ylWNjzmKnaWc"
      }
    },
    {
      "cell_type": "code",
      "source": [],
      "metadata": {
        "id": "UFqTPX5kZ-iK"
      },
      "execution_count": null,
      "outputs": []
    }
  ],
  "metadata": {
    "kernelspec": {
      "display_name": "Python 3",
      "name": "python3"
    },
    "language_info": {
      "codemirror_mode": {
        "name": "ipython",
        "version": 3
      },
      "file_extension": ".py",
      "mimetype": "text/x-python",
      "name": "python",
      "nbconvert_exporter": "python",
      "pygments_lexer": "ipython3",
      "version": "3.10.15"
    },
    "colab": {
      "provenance": [],
      "machine_shape": "hm",
      "gpuType": "A100"
    },
    "accelerator": "GPU"
  },
  "nbformat": 4,
  "nbformat_minor": 0
}